{
  "nbformat": 4,
  "nbformat_minor": 0,
  "metadata": {
    "kernelspec": {
      "display_name": "Python 3",
      "language": "python",
      "name": "python3"
    },
    "language_info": {
      "codemirror_mode": {
        "name": "ipython",
        "version": 3
      },
      "file_extension": ".py",
      "mimetype": "text/x-python",
      "name": "python",
      "nbconvert_exporter": "python",
      "pygments_lexer": "ipython3",
      "version": "3.8.3"
    },
    "colab": {
      "name": "LinkedIn Job Description Web Scraper.ipynb",
      "provenance": [],
      "include_colab_link": true
    }
  },
  "cells": [
    {
      "cell_type": "markdown",
      "metadata": {
        "id": "view-in-github",
        "colab_type": "text"
      },
      "source": [
        "<a href=\"https://colab.research.google.com/github/kamalmukhalalaty/Data-Driven-Design-of-a-Data-Science-Masters-Curriculum/blob/main/LinkedIn_Job_Description_Web_Scraper.ipynb\" target=\"_parent\"><img src=\"https://colab.research.google.com/assets/colab-badge.svg\" alt=\"Open In Colab\"/></a>"
      ]
    },
    {
      "cell_type": "code",
      "metadata": {
        "id": "tWGFJV2oXcjR",
        "colab": {
          "base_uri": "https://localhost:8080/",
          "height": 1000
        },
        "outputId": "d6951213-3c1a-4e58-fefc-770687175ded"
      },
      "source": [
        "!pip install selenium\n",
        "!apt-get update # to update ubuntu to correctly run apt install\n",
        "!apt install chromium-chromedriver\n",
        "!cp /usr/lib/chromium-browser/chromedriver /usr/bin\n",
        "import sys\n",
        "sys.path.insert(0,'/usr/lib/chromium-browser/chromedriver')\n",
        "from selenium import webdriver\n",
        "chrome_options = webdriver.ChromeOptions()\n",
        "chrome_options.add_argument('--headless')\n",
        "chrome_options.add_argument('--no-sandbox')\n",
        "chrome_options.add_argument('--disable-dev-shm-usage')"
      ],
      "execution_count": null,
      "outputs": [
        {
          "output_type": "stream",
          "text": [
            "Collecting selenium\n",
            "\u001b[?25l  Downloading https://files.pythonhosted.org/packages/80/d6/4294f0b4bce4de0abf13e17190289f9d0613b0a44e5dd6a7f5ca98459853/selenium-3.141.0-py2.py3-none-any.whl (904kB)\n",
            "\u001b[K     |████████████████████████████████| 911kB 2.6MB/s \n",
            "\u001b[?25hRequirement already satisfied: urllib3 in /usr/local/lib/python3.6/dist-packages (from selenium) (1.24.3)\n",
            "Installing collected packages: selenium\n",
            "Successfully installed selenium-3.141.0\n",
            "Ign:1 https://developer.download.nvidia.com/compute/cuda/repos/ubuntu1804/x86_64  InRelease\n",
            "Get:2 https://cloud.r-project.org/bin/linux/ubuntu bionic-cran40/ InRelease [3,626 B]\n",
            "Get:3 http://ppa.launchpad.net/c2d4u.team/c2d4u4.0+/ubuntu bionic InRelease [15.9 kB]\n",
            "Ign:4 https://developer.download.nvidia.com/compute/machine-learning/repos/ubuntu1804/x86_64  InRelease\n",
            "Get:5 https://developer.download.nvidia.com/compute/cuda/repos/ubuntu1804/x86_64  Release [697 B]\n",
            "Get:6 http://security.ubuntu.com/ubuntu bionic-security InRelease [88.7 kB]\n",
            "Get:7 https://developer.download.nvidia.com/compute/machine-learning/repos/ubuntu1804/x86_64  Release [564 B]\n",
            "Get:8 https://developer.download.nvidia.com/compute/cuda/repos/ubuntu1804/x86_64  Release.gpg [836 B]\n",
            "Get:9 https://developer.download.nvidia.com/compute/machine-learning/repos/ubuntu1804/x86_64  Release.gpg [833 B]\n",
            "Hit:10 http://archive.ubuntu.com/ubuntu bionic InRelease\n",
            "Get:11 http://archive.ubuntu.com/ubuntu bionic-updates InRelease [88.7 kB]\n",
            "Hit:12 http://ppa.launchpad.net/graphics-drivers/ppa/ubuntu bionic InRelease\n",
            "Get:13 https://cloud.r-project.org/bin/linux/ubuntu bionic-cran40/ Packages [39.3 kB]\n",
            "Get:14 http://archive.ubuntu.com/ubuntu bionic-backports InRelease [74.6 kB]\n",
            "Ign:15 https://developer.download.nvidia.com/compute/cuda/repos/ubuntu1804/x86_64  Packages\n",
            "Get:15 https://developer.download.nvidia.com/compute/cuda/repos/ubuntu1804/x86_64  Packages [370 kB]\n",
            "Get:16 https://developer.download.nvidia.com/compute/machine-learning/repos/ubuntu1804/x86_64  Packages [57.0 kB]\n",
            "Get:17 http://ppa.launchpad.net/c2d4u.team/c2d4u4.0+/ubuntu bionic/main Sources [1,685 kB]\n",
            "Get:18 http://security.ubuntu.com/ubuntu bionic-security/main amd64 Packages [1,748 kB]\n",
            "Get:19 http://archive.ubuntu.com/ubuntu bionic-updates/main amd64 Packages [2,165 kB]\n",
            "Get:20 http://ppa.launchpad.net/c2d4u.team/c2d4u4.0+/ubuntu bionic/main amd64 Packages [863 kB]\n",
            "Get:21 http://security.ubuntu.com/ubuntu bionic-security/universe amd64 Packages [1,353 kB]\n",
            "Get:22 http://security.ubuntu.com/ubuntu bionic-security/multiverse amd64 Packages [15.4 kB]\n",
            "Get:23 http://security.ubuntu.com/ubuntu bionic-security/restricted amd64 Packages [213 kB]\n",
            "Get:24 http://archive.ubuntu.com/ubuntu bionic-updates/universe amd64 Packages [2,115 kB]\n",
            "Get:25 http://archive.ubuntu.com/ubuntu bionic-updates/multiverse amd64 Packages [45.9 kB]\n",
            "Get:26 http://archive.ubuntu.com/ubuntu bionic-updates/restricted amd64 Packages [239 kB]\n",
            "Fetched 11.2 MB in 3s (3,801 kB/s)\n",
            "Reading package lists... Done\n",
            "Reading package lists... Done\n",
            "Building dependency tree       \n",
            "Reading state information... Done\n",
            "The following additional packages will be installed:\n",
            "  chromium-browser chromium-browser-l10n chromium-codecs-ffmpeg-extra\n",
            "Suggested packages:\n",
            "  webaccounts-chromium-extension unity-chromium-extension adobe-flashplugin\n",
            "The following NEW packages will be installed:\n",
            "  chromium-browser chromium-browser-l10n chromium-chromedriver\n",
            "  chromium-codecs-ffmpeg-extra\n",
            "0 upgraded, 4 newly installed, 0 to remove and 58 not upgraded.\n",
            "Need to get 80.1 MB of archives.\n",
            "After this operation, 271 MB of additional disk space will be used.\n",
            "Get:1 http://archive.ubuntu.com/ubuntu bionic-updates/universe amd64 chromium-codecs-ffmpeg-extra amd64 86.0.4240.75-0ubuntu0.18.04.1 [1,127 kB]\n",
            "Get:2 http://archive.ubuntu.com/ubuntu bionic-updates/universe amd64 chromium-browser amd64 86.0.4240.75-0ubuntu0.18.04.1 [70.9 MB]\n",
            "Get:3 http://archive.ubuntu.com/ubuntu bionic-updates/universe amd64 chromium-browser-l10n all 86.0.4240.75-0ubuntu0.18.04.1 [3,579 kB]\n",
            "Get:4 http://archive.ubuntu.com/ubuntu bionic-updates/universe amd64 chromium-chromedriver amd64 86.0.4240.75-0ubuntu0.18.04.1 [4,486 kB]\n",
            "Fetched 80.1 MB in 3s (22.9 MB/s)\n",
            "Selecting previously unselected package chromium-codecs-ffmpeg-extra.\n",
            "(Reading database ... 144611 files and directories currently installed.)\n",
            "Preparing to unpack .../chromium-codecs-ffmpeg-extra_86.0.4240.75-0ubuntu0.18.04.1_amd64.deb ...\n",
            "Unpacking chromium-codecs-ffmpeg-extra (86.0.4240.75-0ubuntu0.18.04.1) ...\n",
            "Selecting previously unselected package chromium-browser.\n",
            "Preparing to unpack .../chromium-browser_86.0.4240.75-0ubuntu0.18.04.1_amd64.deb ...\n",
            "Unpacking chromium-browser (86.0.4240.75-0ubuntu0.18.04.1) ...\n",
            "Selecting previously unselected package chromium-browser-l10n.\n",
            "Preparing to unpack .../chromium-browser-l10n_86.0.4240.75-0ubuntu0.18.04.1_all.deb ...\n",
            "Unpacking chromium-browser-l10n (86.0.4240.75-0ubuntu0.18.04.1) ...\n",
            "Selecting previously unselected package chromium-chromedriver.\n",
            "Preparing to unpack .../chromium-chromedriver_86.0.4240.75-0ubuntu0.18.04.1_amd64.deb ...\n",
            "Unpacking chromium-chromedriver (86.0.4240.75-0ubuntu0.18.04.1) ...\n",
            "Setting up chromium-codecs-ffmpeg-extra (86.0.4240.75-0ubuntu0.18.04.1) ...\n",
            "Setting up chromium-browser (86.0.4240.75-0ubuntu0.18.04.1) ...\n",
            "update-alternatives: using /usr/bin/chromium-browser to provide /usr/bin/x-www-browser (x-www-browser) in auto mode\n",
            "update-alternatives: using /usr/bin/chromium-browser to provide /usr/bin/gnome-www-browser (gnome-www-browser) in auto mode\n",
            "Setting up chromium-chromedriver (86.0.4240.75-0ubuntu0.18.04.1) ...\n",
            "Setting up chromium-browser-l10n (86.0.4240.75-0ubuntu0.18.04.1) ...\n",
            "Processing triggers for hicolor-icon-theme (0.17-2) ...\n",
            "Processing triggers for mime-support (3.60ubuntu1) ...\n",
            "Processing triggers for man-db (2.8.3-2ubuntu0.1) ...\n",
            "cp: '/usr/lib/chromium-browser/chromedriver' and '/usr/bin/chromedriver' are the same file\n"
          ],
          "name": "stdout"
        }
      ]
    },
    {
      "cell_type": "code",
      "metadata": {
        "id": "C6mRdeFmWV2Z"
      },
      "source": [
        "# importing packages\n",
        "import pandas as pd\n",
        "import re\n",
        "\n",
        "from bs4 import BeautifulSoup\n",
        "from datetime import date, timedelta, datetime\n",
        "from IPython.core.display import clear_output\n",
        "from random import randint\n",
        "from requests import get\n",
        "from selenium import webdriver\n",
        "from selenium.webdriver.common.action_chains import ActionChains\n",
        "from time import sleep\n",
        "from time import time\n",
        "start_time = time()\n",
        "\n",
        "from warnings import warn"
      ],
      "execution_count": null,
      "outputs": []
    },
    {
      "cell_type": "code",
      "metadata": {
        "id": "2tTTm_0GWV2e"
      },
      "source": [
        "# replace variables here.\n",
        "url = \"https://www.linkedin.com/jobs/search/?f_TPR=r604800&geoId=101174742&keywords=data%20analyst&location=Canada&sortBy=DD\"\n",
        "no_of_pages =20"
      ],
      "execution_count": null,
      "outputs": []
    },
    {
      "cell_type": "code",
      "metadata": {
        "id": "7rYErL34WV2h",
        "colab": {
          "base_uri": "https://localhost:8080/",
          "height": 393
        },
        "outputId": "deeef980-f579-4c87-9e01-ab17023d1102"
      },
      "source": [
        "# this will open up new window with the url provided above \n",
        "driver = webdriver.Chrome()\n",
        "driver.get(url)\n",
        "sleep(3)\n",
        "action = ActionChains(driver)"
      ],
      "execution_count": null,
      "outputs": [
        {
          "output_type": "error",
          "ename": "WebDriverException",
          "evalue": "ignored",
          "traceback": [
            "\u001b[0;31m---------------------------------------------------------------------------\u001b[0m",
            "\u001b[0;31mWebDriverException\u001b[0m                        Traceback (most recent call last)",
            "\u001b[0;32m<ipython-input-12-636adfcecae3>\u001b[0m in \u001b[0;36m<module>\u001b[0;34m()\u001b[0m\n\u001b[1;32m      1\u001b[0m \u001b[0;31m# this will open up new window with the url provided above\u001b[0m\u001b[0;34m\u001b[0m\u001b[0;34m\u001b[0m\u001b[0;34m\u001b[0m\u001b[0m\n\u001b[0;32m----> 2\u001b[0;31m \u001b[0mdriver\u001b[0m \u001b[0;34m=\u001b[0m \u001b[0mwebdriver\u001b[0m\u001b[0;34m.\u001b[0m\u001b[0mChrome\u001b[0m\u001b[0;34m(\u001b[0m\u001b[0;34m)\u001b[0m\u001b[0;34m\u001b[0m\u001b[0;34m\u001b[0m\u001b[0m\n\u001b[0m\u001b[1;32m      3\u001b[0m \u001b[0mdriver\u001b[0m\u001b[0;34m.\u001b[0m\u001b[0mget\u001b[0m\u001b[0;34m(\u001b[0m\u001b[0murl\u001b[0m\u001b[0;34m)\u001b[0m\u001b[0;34m\u001b[0m\u001b[0;34m\u001b[0m\u001b[0m\n\u001b[1;32m      4\u001b[0m \u001b[0msleep\u001b[0m\u001b[0;34m(\u001b[0m\u001b[0;36m3\u001b[0m\u001b[0;34m)\u001b[0m\u001b[0;34m\u001b[0m\u001b[0;34m\u001b[0m\u001b[0m\n\u001b[1;32m      5\u001b[0m \u001b[0maction\u001b[0m \u001b[0;34m=\u001b[0m \u001b[0mActionChains\u001b[0m\u001b[0;34m(\u001b[0m\u001b[0mdriver\u001b[0m\u001b[0;34m)\u001b[0m\u001b[0;34m\u001b[0m\u001b[0;34m\u001b[0m\u001b[0m\n",
            "\u001b[0;32m/usr/local/lib/python3.6/dist-packages/selenium/webdriver/chrome/webdriver.py\u001b[0m in \u001b[0;36m__init__\u001b[0;34m(self, executable_path, port, options, service_args, desired_capabilities, service_log_path, chrome_options, keep_alive)\u001b[0m\n\u001b[1;32m     79\u001b[0m                     \u001b[0mremote_server_addr\u001b[0m\u001b[0;34m=\u001b[0m\u001b[0mself\u001b[0m\u001b[0;34m.\u001b[0m\u001b[0mservice\u001b[0m\u001b[0;34m.\u001b[0m\u001b[0mservice_url\u001b[0m\u001b[0;34m,\u001b[0m\u001b[0;34m\u001b[0m\u001b[0;34m\u001b[0m\u001b[0m\n\u001b[1;32m     80\u001b[0m                     keep_alive=keep_alive),\n\u001b[0;32m---> 81\u001b[0;31m                 desired_capabilities=desired_capabilities)\n\u001b[0m\u001b[1;32m     82\u001b[0m         \u001b[0;32mexcept\u001b[0m \u001b[0mException\u001b[0m\u001b[0;34m:\u001b[0m\u001b[0;34m\u001b[0m\u001b[0;34m\u001b[0m\u001b[0m\n\u001b[1;32m     83\u001b[0m             \u001b[0mself\u001b[0m\u001b[0;34m.\u001b[0m\u001b[0mquit\u001b[0m\u001b[0;34m(\u001b[0m\u001b[0;34m)\u001b[0m\u001b[0;34m\u001b[0m\u001b[0;34m\u001b[0m\u001b[0m\n",
            "\u001b[0;32m/usr/local/lib/python3.6/dist-packages/selenium/webdriver/remote/webdriver.py\u001b[0m in \u001b[0;36m__init__\u001b[0;34m(self, command_executor, desired_capabilities, browser_profile, proxy, keep_alive, file_detector, options)\u001b[0m\n\u001b[1;32m    155\u001b[0m             warnings.warn(\"Please use FirefoxOptions to set browser profile\",\n\u001b[1;32m    156\u001b[0m                           DeprecationWarning, stacklevel=2)\n\u001b[0;32m--> 157\u001b[0;31m         \u001b[0mself\u001b[0m\u001b[0;34m.\u001b[0m\u001b[0mstart_session\u001b[0m\u001b[0;34m(\u001b[0m\u001b[0mcapabilities\u001b[0m\u001b[0;34m,\u001b[0m \u001b[0mbrowser_profile\u001b[0m\u001b[0;34m)\u001b[0m\u001b[0;34m\u001b[0m\u001b[0;34m\u001b[0m\u001b[0m\n\u001b[0m\u001b[1;32m    158\u001b[0m         \u001b[0mself\u001b[0m\u001b[0;34m.\u001b[0m\u001b[0m_switch_to\u001b[0m \u001b[0;34m=\u001b[0m \u001b[0mSwitchTo\u001b[0m\u001b[0;34m(\u001b[0m\u001b[0mself\u001b[0m\u001b[0;34m)\u001b[0m\u001b[0;34m\u001b[0m\u001b[0;34m\u001b[0m\u001b[0m\n\u001b[1;32m    159\u001b[0m         \u001b[0mself\u001b[0m\u001b[0;34m.\u001b[0m\u001b[0m_mobile\u001b[0m \u001b[0;34m=\u001b[0m \u001b[0mMobile\u001b[0m\u001b[0;34m(\u001b[0m\u001b[0mself\u001b[0m\u001b[0;34m)\u001b[0m\u001b[0;34m\u001b[0m\u001b[0;34m\u001b[0m\u001b[0m\n",
            "\u001b[0;32m/usr/local/lib/python3.6/dist-packages/selenium/webdriver/remote/webdriver.py\u001b[0m in \u001b[0;36mstart_session\u001b[0;34m(self, capabilities, browser_profile)\u001b[0m\n\u001b[1;32m    250\u001b[0m         parameters = {\"capabilities\": w3c_caps,\n\u001b[1;32m    251\u001b[0m                       \"desiredCapabilities\": capabilities}\n\u001b[0;32m--> 252\u001b[0;31m         \u001b[0mresponse\u001b[0m \u001b[0;34m=\u001b[0m \u001b[0mself\u001b[0m\u001b[0;34m.\u001b[0m\u001b[0mexecute\u001b[0m\u001b[0;34m(\u001b[0m\u001b[0mCommand\u001b[0m\u001b[0;34m.\u001b[0m\u001b[0mNEW_SESSION\u001b[0m\u001b[0;34m,\u001b[0m \u001b[0mparameters\u001b[0m\u001b[0;34m)\u001b[0m\u001b[0;34m\u001b[0m\u001b[0;34m\u001b[0m\u001b[0m\n\u001b[0m\u001b[1;32m    253\u001b[0m         \u001b[0;32mif\u001b[0m \u001b[0;34m'sessionId'\u001b[0m \u001b[0;32mnot\u001b[0m \u001b[0;32min\u001b[0m \u001b[0mresponse\u001b[0m\u001b[0;34m:\u001b[0m\u001b[0;34m\u001b[0m\u001b[0;34m\u001b[0m\u001b[0m\n\u001b[1;32m    254\u001b[0m             \u001b[0mresponse\u001b[0m \u001b[0;34m=\u001b[0m \u001b[0mresponse\u001b[0m\u001b[0;34m[\u001b[0m\u001b[0;34m'value'\u001b[0m\u001b[0;34m]\u001b[0m\u001b[0;34m\u001b[0m\u001b[0;34m\u001b[0m\u001b[0m\n",
            "\u001b[0;32m/usr/local/lib/python3.6/dist-packages/selenium/webdriver/remote/webdriver.py\u001b[0m in \u001b[0;36mexecute\u001b[0;34m(self, driver_command, params)\u001b[0m\n\u001b[1;32m    319\u001b[0m         \u001b[0mresponse\u001b[0m \u001b[0;34m=\u001b[0m \u001b[0mself\u001b[0m\u001b[0;34m.\u001b[0m\u001b[0mcommand_executor\u001b[0m\u001b[0;34m.\u001b[0m\u001b[0mexecute\u001b[0m\u001b[0;34m(\u001b[0m\u001b[0mdriver_command\u001b[0m\u001b[0;34m,\u001b[0m \u001b[0mparams\u001b[0m\u001b[0;34m)\u001b[0m\u001b[0;34m\u001b[0m\u001b[0;34m\u001b[0m\u001b[0m\n\u001b[1;32m    320\u001b[0m         \u001b[0;32mif\u001b[0m \u001b[0mresponse\u001b[0m\u001b[0;34m:\u001b[0m\u001b[0;34m\u001b[0m\u001b[0;34m\u001b[0m\u001b[0m\n\u001b[0;32m--> 321\u001b[0;31m             \u001b[0mself\u001b[0m\u001b[0;34m.\u001b[0m\u001b[0merror_handler\u001b[0m\u001b[0;34m.\u001b[0m\u001b[0mcheck_response\u001b[0m\u001b[0;34m(\u001b[0m\u001b[0mresponse\u001b[0m\u001b[0;34m)\u001b[0m\u001b[0;34m\u001b[0m\u001b[0;34m\u001b[0m\u001b[0m\n\u001b[0m\u001b[1;32m    322\u001b[0m             response['value'] = self._unwrap_value(\n\u001b[1;32m    323\u001b[0m                 response.get('value', None))\n",
            "\u001b[0;32m/usr/local/lib/python3.6/dist-packages/selenium/webdriver/remote/errorhandler.py\u001b[0m in \u001b[0;36mcheck_response\u001b[0;34m(self, response)\u001b[0m\n\u001b[1;32m    240\u001b[0m                 \u001b[0malert_text\u001b[0m \u001b[0;34m=\u001b[0m \u001b[0mvalue\u001b[0m\u001b[0;34m[\u001b[0m\u001b[0;34m'alert'\u001b[0m\u001b[0;34m]\u001b[0m\u001b[0;34m.\u001b[0m\u001b[0mget\u001b[0m\u001b[0;34m(\u001b[0m\u001b[0;34m'text'\u001b[0m\u001b[0;34m)\u001b[0m\u001b[0;34m\u001b[0m\u001b[0;34m\u001b[0m\u001b[0m\n\u001b[1;32m    241\u001b[0m             \u001b[0;32mraise\u001b[0m \u001b[0mexception_class\u001b[0m\u001b[0;34m(\u001b[0m\u001b[0mmessage\u001b[0m\u001b[0;34m,\u001b[0m \u001b[0mscreen\u001b[0m\u001b[0;34m,\u001b[0m \u001b[0mstacktrace\u001b[0m\u001b[0;34m,\u001b[0m \u001b[0malert_text\u001b[0m\u001b[0;34m)\u001b[0m\u001b[0;34m\u001b[0m\u001b[0;34m\u001b[0m\u001b[0m\n\u001b[0;32m--> 242\u001b[0;31m         \u001b[0;32mraise\u001b[0m \u001b[0mexception_class\u001b[0m\u001b[0;34m(\u001b[0m\u001b[0mmessage\u001b[0m\u001b[0;34m,\u001b[0m \u001b[0mscreen\u001b[0m\u001b[0;34m,\u001b[0m \u001b[0mstacktrace\u001b[0m\u001b[0;34m)\u001b[0m\u001b[0;34m\u001b[0m\u001b[0;34m\u001b[0m\u001b[0m\n\u001b[0m\u001b[1;32m    243\u001b[0m \u001b[0;34m\u001b[0m\u001b[0m\n\u001b[1;32m    244\u001b[0m     \u001b[0;32mdef\u001b[0m \u001b[0m_value_or_default\u001b[0m\u001b[0;34m(\u001b[0m\u001b[0mself\u001b[0m\u001b[0;34m,\u001b[0m \u001b[0mobj\u001b[0m\u001b[0;34m,\u001b[0m \u001b[0mkey\u001b[0m\u001b[0;34m,\u001b[0m \u001b[0mdefault\u001b[0m\u001b[0;34m)\u001b[0m\u001b[0;34m:\u001b[0m\u001b[0;34m\u001b[0m\u001b[0;34m\u001b[0m\u001b[0m\n",
            "\u001b[0;31mWebDriverException\u001b[0m: Message: unknown error: Chrome failed to start: exited abnormally.\n  (unknown error: DevToolsActivePort file doesn't exist)\n  (The process started from chrome location /usr/bin/chromium-browser is no longer running, so ChromeDriver is assuming that Chrome has crashed.)\n"
          ]
        }
      ]
    },
    {
      "cell_type": "code",
      "metadata": {
        "id": "xxZ8anPBWV2k"
      },
      "source": [
        "#stringscroll = 'window.scrollTo(0,'+str(4230*pgs)+')'\n",
        "#print (stringscroll)"
      ],
      "execution_count": null,
      "outputs": []
    },
    {
      "cell_type": "code",
      "metadata": {
        "id": "umkP7rv9WV2n"
      },
      "source": [
        "#driver.find_element_by_xpath('//*[@id=\"main-content\"]/div/section/button').click()"
      ],
      "execution_count": null,
      "outputs": []
    },
    {
      "cell_type": "code",
      "metadata": {
        "id": "wFK53-n_WV2q",
        "colab": {
          "base_uri": "https://localhost:8080/",
          "height": 223
        },
        "outputId": "8dbd54ec-1903-44b7-d9ae-a7af49e58a1e"
      },
      "source": [
        "pgs = 1 \n",
        "\n",
        "while pgs < no_of_pages:\n",
        "    stringscroll = 'window.scrollTo(0,'+str(4230*pgs)+')'\n",
        "    driver.execute_script(stringscroll)\n",
        "    pgs +=1\n",
        "    sleep(3)\n",
        "    try:\n",
        "        driver.find_element_by_xpath('//*[@id=\"main-content\"]/div/section/button').click()\n",
        "    except:\n",
        "        pass\n",
        "    print(pgs)"
      ],
      "execution_count": null,
      "outputs": [
        {
          "output_type": "error",
          "ename": "NameError",
          "evalue": "ignored",
          "traceback": [
            "\u001b[0;31m---------------------------------------------------------------------------\u001b[0m",
            "\u001b[0;31mNameError\u001b[0m                                 Traceback (most recent call last)",
            "\u001b[0;32m<ipython-input-7-649cab060c92>\u001b[0m in \u001b[0;36m<module>\u001b[0;34m()\u001b[0m\n\u001b[1;32m      3\u001b[0m \u001b[0;32mwhile\u001b[0m \u001b[0mpgs\u001b[0m \u001b[0;34m<\u001b[0m \u001b[0mno_of_pages\u001b[0m\u001b[0;34m:\u001b[0m\u001b[0;34m\u001b[0m\u001b[0;34m\u001b[0m\u001b[0m\n\u001b[1;32m      4\u001b[0m     \u001b[0mstringscroll\u001b[0m \u001b[0;34m=\u001b[0m \u001b[0;34m'window.scrollTo(0,'\u001b[0m\u001b[0;34m+\u001b[0m\u001b[0mstr\u001b[0m\u001b[0;34m(\u001b[0m\u001b[0;36m4230\u001b[0m\u001b[0;34m*\u001b[0m\u001b[0mpgs\u001b[0m\u001b[0;34m)\u001b[0m\u001b[0;34m+\u001b[0m\u001b[0;34m')'\u001b[0m\u001b[0;34m\u001b[0m\u001b[0;34m\u001b[0m\u001b[0m\n\u001b[0;32m----> 5\u001b[0;31m     \u001b[0mdriver\u001b[0m\u001b[0;34m.\u001b[0m\u001b[0mexecute_script\u001b[0m\u001b[0;34m(\u001b[0m\u001b[0mstringscroll\u001b[0m\u001b[0;34m)\u001b[0m\u001b[0;34m\u001b[0m\u001b[0;34m\u001b[0m\u001b[0m\n\u001b[0m\u001b[1;32m      6\u001b[0m     \u001b[0mpgs\u001b[0m \u001b[0;34m+=\u001b[0m\u001b[0;36m1\u001b[0m\u001b[0;34m\u001b[0m\u001b[0;34m\u001b[0m\u001b[0m\n\u001b[1;32m      7\u001b[0m     \u001b[0msleep\u001b[0m\u001b[0;34m(\u001b[0m\u001b[0;36m3\u001b[0m\u001b[0;34m)\u001b[0m\u001b[0;34m\u001b[0m\u001b[0;34m\u001b[0m\u001b[0m\n",
            "\u001b[0;31mNameError\u001b[0m: name 'driver' is not defined"
          ]
        }
      ]
    },
    {
      "cell_type": "code",
      "metadata": {
        "id": "GxluPM7mWV2v",
        "colab": {
          "base_uri": "https://localhost:8080/",
          "height": 223
        },
        "outputId": "d91d6dbe-743d-4bae-9f32-de5a5e04f20f"
      },
      "source": [
        "# parsing the visible webpage\n",
        "pageSource = driver.page_source\n",
        "lxml_soup = BeautifulSoup(pageSource, 'lxml')\n",
        "\n",
        "# searching for all job containers\n",
        "job_container = lxml_soup.find('ul', class_ = 'jobs-search__results-list')\n",
        "\n",
        "print('You are scraping information about {} jobs.'.format(len(job_container)))"
      ],
      "execution_count": null,
      "outputs": [
        {
          "output_type": "error",
          "ename": "NameError",
          "evalue": "ignored",
          "traceback": [
            "\u001b[0;31m---------------------------------------------------------------------------\u001b[0m",
            "\u001b[0;31mNameError\u001b[0m                                 Traceback (most recent call last)",
            "\u001b[0;32m<ipython-input-8-6acdc2483f27>\u001b[0m in \u001b[0;36m<module>\u001b[0;34m()\u001b[0m\n\u001b[1;32m      1\u001b[0m \u001b[0;31m# parsing the visible webpage\u001b[0m\u001b[0;34m\u001b[0m\u001b[0;34m\u001b[0m\u001b[0;34m\u001b[0m\u001b[0m\n\u001b[0;32m----> 2\u001b[0;31m \u001b[0mpageSource\u001b[0m \u001b[0;34m=\u001b[0m \u001b[0mdriver\u001b[0m\u001b[0;34m.\u001b[0m\u001b[0mpage_source\u001b[0m\u001b[0;34m\u001b[0m\u001b[0;34m\u001b[0m\u001b[0m\n\u001b[0m\u001b[1;32m      3\u001b[0m \u001b[0mlxml_soup\u001b[0m \u001b[0;34m=\u001b[0m \u001b[0mBeautifulSoup\u001b[0m\u001b[0;34m(\u001b[0m\u001b[0mpageSource\u001b[0m\u001b[0;34m,\u001b[0m \u001b[0;34m'lxml'\u001b[0m\u001b[0;34m)\u001b[0m\u001b[0;34m\u001b[0m\u001b[0;34m\u001b[0m\u001b[0m\n\u001b[1;32m      4\u001b[0m \u001b[0;34m\u001b[0m\u001b[0m\n\u001b[1;32m      5\u001b[0m \u001b[0;31m# searching for all job containers\u001b[0m\u001b[0;34m\u001b[0m\u001b[0;34m\u001b[0m\u001b[0;34m\u001b[0m\u001b[0m\n",
            "\u001b[0;31mNameError\u001b[0m: name 'driver' is not defined"
          ]
        }
      ]
    },
    {
      "cell_type": "code",
      "metadata": {
        "id": "zn0g1PJCWV26"
      },
      "source": [
        "# setting up list for job information\n",
        "job_id = []\n",
        "post_title = []\n",
        "company_name = []\n",
        "post_date = []\n",
        "job_location = []\n",
        "job_desc = []\n",
        "level = []\n",
        "emp_type = []\n",
        "functions = []\n",
        "industries = []\n",
        "\n",
        "# for loop for job title, company, id, location and date posted\n",
        "for job in job_container:\n",
        "    \n",
        "    # job title\n",
        "    job_titles = job.find(\"span\", class_=\"screen-reader-text\").text\n",
        "    post_title.append(job_titles)\n",
        "    \n",
        "    # linkedin job id\n",
        "    job_ids = job.find('a', href=True)['href']\n",
        "    job_ids = re.findall(r'(?!-)([0-9]*)(?=\\?)',job_ids)[0]\n",
        "    job_id.append(job_ids)\n",
        "    \n",
        "    # company name\n",
        "    company_names = job.select_one('img')['alt']\n",
        "    company_name.append(company_names)\n",
        "    \n",
        "    # job location\n",
        "    job_locations = job.find(\"span\", class_=\"job-result-card__location\").text\n",
        "    job_location.append(job_locations)\n",
        "    \n",
        "    # posting date\n",
        "    post_dates = job.select_one('time')['datetime']\n",
        "    post_date.append(post_dates)\n",
        "\n",
        "# for loop for job description and criterias\n",
        "for x in range(1,len(job_id)+1):\n",
        "    \n",
        "    # clicking on different job containers to view information about the job\n",
        "    job_xpath = '/html/body/main/div/section/ul/li[{}]/img'.format(x)\n",
        "    driver.find_element_by_xpath(job_xpath).click()\n",
        "    sleep(5)  #Maybe too long\n",
        "    \n",
        "    # job description\n",
        "    #jobdesc_xpath = '/html/body/main/section/div[2]/section[2]/div'\n",
        "    jobdesc_xpath='/html/body/main/section/div[2]/section[2]/div/section/div'\n",
        "    job_descs = driver.find_element_by_xpath(jobdesc_xpath).text\n",
        "    job_desc.append(job_descs)\n",
        "    \n",
        "    \n",
        "    # job criteria container below the description\n",
        "    job_criteria_container = lxml_soup.find('ul', class_ = 'job-criteria__list')\n",
        "    all_job_criterias = job_criteria_container.find_all(\"span\", class_='job-criteria__text job-criteria__text--criteria')\n",
        "    \n",
        "    # Seniority level\n",
        "    seniority_xpath = '/html/body/main/section/div[2]/section[2]/ul/li[1]'\n",
        "    seniority = driver.find_element_by_xpath(seniority_xpath).text.splitlines(0)[1]\n",
        "    level.append(seniority)\n",
        "    \n",
        "    # Employment type\n",
        "    type_xpath = '/html/body/main/section/div[2]/section[2]/ul/li[2]'\n",
        "    employment_type = driver.find_element_by_xpath(type_xpath).text.splitlines(0)[1]\n",
        "    emp_type.append(employment_type)\n",
        "    \n",
        "    # Job function\n",
        "    function_xpath = '/html/body/main/section/div[2]/section[2]/ul/li[3]'\n",
        "    job_function = driver.find_element_by_xpath(function_xpath).text.splitlines(0)[1]\n",
        "    functions.append(job_function)\n",
        "    \n",
        "    # Industries\n",
        "    industry_xpath = '/html/body/main/section/div[2]/section[2]/ul/li[4]'\n",
        "    industry_type = driver.find_element_by_xpath(industry_xpath).text.splitlines(0)[1]\n",
        "    industries.append(industry_type)\n",
        "    \n",
        "    x = x+1\n"
      ],
      "execution_count": null,
      "outputs": []
    },
    {
      "cell_type": "code",
      "metadata": {
        "id": "B_4tzVqFWV2-",
        "outputId": "547945b6-1e97-4dc2-a8d1-fe03f02d11f9"
      },
      "source": [
        "# to check if we have all information\n",
        "print(len(job_id))\n",
        "print(len(post_date))\n",
        "print(len(company_name))\n",
        "print(len(post_title))\n",
        "print(len(job_location))\n",
        "print(len(job_desc))\n",
        "print(len(level))\n",
        "print(len(emp_type))\n",
        "print(len(functions))\n",
        "print(len(industries))"
      ],
      "execution_count": null,
      "outputs": [
        {
          "output_type": "stream",
          "text": [
            "444\n",
            "444\n",
            "444\n",
            "444\n",
            "444\n",
            "444\n",
            "444\n",
            "444\n",
            "444\n",
            "444\n"
          ],
          "name": "stdout"
        }
      ]
    },
    {
      "cell_type": "code",
      "metadata": {
        "id": "n-DWamVoWV3B",
        "outputId": "2b0b2572-a52d-410e-8cbf-7756315e6b1b"
      },
      "source": [
        "# creating a dataframe\n",
        "job_data = pd.DataFrame({'Job ID': job_id,\n",
        "'Date': post_date,\n",
        "'Company Name': company_name,\n",
        "'Post': post_title,\n",
        "'Location': job_location,\n",
        "'Description': job_desc,\n",
        "'Level': level,\n",
        "'Type': emp_type,\n",
        "'Function': functions,\n",
        "'Industry': industries\n",
        "})\n",
        "\n",
        "# cleaning description column\n",
        "job_data['Description'] = job_data['Description'].str.replace('\\n',' ')\n",
        "\n",
        "print(job_data.info())\n",
        "job_data.head()"
      ],
      "execution_count": null,
      "outputs": [
        {
          "output_type": "stream",
          "text": [
            "<class 'pandas.core.frame.DataFrame'>\n",
            "RangeIndex: 444 entries, 0 to 443\n",
            "Data columns (total 10 columns):\n",
            " #   Column        Non-Null Count  Dtype \n",
            "---  ------        --------------  ----- \n",
            " 0   Job ID        444 non-null    object\n",
            " 1   Date          444 non-null    object\n",
            " 2   Company Name  444 non-null    object\n",
            " 3   Post          444 non-null    object\n",
            " 4   Location      444 non-null    object\n",
            " 5   Description   444 non-null    object\n",
            " 6   Level         444 non-null    object\n",
            " 7   Type          444 non-null    object\n",
            " 8   Function      444 non-null    object\n",
            " 9   Industry      444 non-null    object\n",
            "dtypes: object(10)\n",
            "memory usage: 17.4+ KB\n",
            "None\n"
          ],
          "name": "stdout"
        },
        {
          "output_type": "execute_result",
          "data": {
            "text/html": [
              "<div>\n",
              "<style scoped>\n",
              "    .dataframe tbody tr th:only-of-type {\n",
              "        vertical-align: middle;\n",
              "    }\n",
              "\n",
              "    .dataframe tbody tr th {\n",
              "        vertical-align: top;\n",
              "    }\n",
              "\n",
              "    .dataframe thead th {\n",
              "        text-align: right;\n",
              "    }\n",
              "</style>\n",
              "<table border=\"1\" class=\"dataframe\">\n",
              "  <thead>\n",
              "    <tr style=\"text-align: right;\">\n",
              "      <th></th>\n",
              "      <th>Job ID</th>\n",
              "      <th>Date</th>\n",
              "      <th>Company Name</th>\n",
              "      <th>Post</th>\n",
              "      <th>Location</th>\n",
              "      <th>Description</th>\n",
              "      <th>Level</th>\n",
              "      <th>Type</th>\n",
              "      <th>Function</th>\n",
              "      <th>Industry</th>\n",
              "    </tr>\n",
              "  </thead>\n",
              "  <tbody>\n",
              "    <tr>\n",
              "      <th>0</th>\n",
              "      <td>2215727776</td>\n",
              "      <td>2020-10-26</td>\n",
              "      <td>Cognizant</td>\n",
              "      <td>Business Analyst - AML</td>\n",
              "      <td>Toronto, Ontario, Canada</td>\n",
              "      <td>AML Regulatory Changes – Implementation of sev...</td>\n",
              "      <td>Associate</td>\n",
              "      <td>Full-time</td>\n",
              "      <td>Business DevelopmentSales</td>\n",
              "      <td>Information Technology and ServicesManagement ...</td>\n",
              "    </tr>\n",
              "    <tr>\n",
              "      <th>1</th>\n",
              "      <td>2215723707</td>\n",
              "      <td>2020-10-26</td>\n",
              "      <td>Achievers</td>\n",
              "      <td>Data Analyst</td>\n",
              "      <td>Toronto, Ontario, Canada</td>\n",
              "      <td>Achievers delivers an Employee Success Platfor...</td>\n",
              "      <td>Entry level</td>\n",
              "      <td>Full-time</td>\n",
              "      <td>Information Technology</td>\n",
              "      <td>Information Technology and ServicesComputer So...</td>\n",
              "    </tr>\n",
              "    <tr>\n",
              "      <th>2</th>\n",
              "      <td>2243499019</td>\n",
              "      <td>2020-10-26</td>\n",
              "      <td>Botsford Associates</td>\n",
              "      <td>Senior Business Analyst</td>\n",
              "      <td>Toronto, Ontario, Canada</td>\n",
              "      <td>Our banking client is currently looking for Se...</td>\n",
              "      <td>Mid-Senior level</td>\n",
              "      <td>Contract</td>\n",
              "      <td>Consulting</td>\n",
              "      <td>Capital Markets</td>\n",
              "    </tr>\n",
              "    <tr>\n",
              "      <th>3</th>\n",
              "      <td>2215718774</td>\n",
              "      <td>2020-10-26</td>\n",
              "      <td>CROSSMARK</td>\n",
              "      <td>SR BUSINESS ANALYST</td>\n",
              "      <td>Mississauga, Ontario, Canada</td>\n",
              "      <td>This position is newly created to directly sup...</td>\n",
              "      <td>Associate</td>\n",
              "      <td>Full-time</td>\n",
              "      <td>Business DevelopmentSales</td>\n",
              "      <td>Food &amp; BeveragesConsumer GoodsRetail</td>\n",
              "    </tr>\n",
              "    <tr>\n",
              "      <th>4</th>\n",
              "      <td>2215721206</td>\n",
              "      <td>2020-10-26</td>\n",
              "      <td>NTT DATA Services</td>\n",
              "      <td>Senior Business Analyst - Health</td>\n",
              "      <td>Halifax, Nova Scotia, Canada</td>\n",
              "      <td>NTT DATA Services strives to hire exceptional,...</td>\n",
              "      <td>Mid-Senior level</td>\n",
              "      <td>Full-time</td>\n",
              "      <td>Consulting</td>\n",
              "      <td>Information Technology and Services</td>\n",
              "    </tr>\n",
              "  </tbody>\n",
              "</table>\n",
              "</div>"
            ],
            "text/plain": [
              "       Job ID        Date         Company Name  \\\n",
              "0  2215727776  2020-10-26            Cognizant   \n",
              "1  2215723707  2020-10-26            Achievers   \n",
              "2  2243499019  2020-10-26  Botsford Associates   \n",
              "3  2215718774  2020-10-26            CROSSMARK   \n",
              "4  2215721206  2020-10-26    NTT DATA Services   \n",
              "\n",
              "                               Post                      Location  \\\n",
              "0            Business Analyst - AML      Toronto, Ontario, Canada   \n",
              "1                      Data Analyst      Toronto, Ontario, Canada   \n",
              "2           Senior Business Analyst      Toronto, Ontario, Canada   \n",
              "3               SR BUSINESS ANALYST  Mississauga, Ontario, Canada   \n",
              "4  Senior Business Analyst - Health  Halifax, Nova Scotia, Canada   \n",
              "\n",
              "                                         Description             Level  \\\n",
              "0  AML Regulatory Changes – Implementation of sev...         Associate   \n",
              "1  Achievers delivers an Employee Success Platfor...       Entry level   \n",
              "2  Our banking client is currently looking for Se...  Mid-Senior level   \n",
              "3  This position is newly created to directly sup...         Associate   \n",
              "4  NTT DATA Services strives to hire exceptional,...  Mid-Senior level   \n",
              "\n",
              "        Type                   Function  \\\n",
              "0  Full-time  Business DevelopmentSales   \n",
              "1  Full-time     Information Technology   \n",
              "2   Contract                 Consulting   \n",
              "3  Full-time  Business DevelopmentSales   \n",
              "4  Full-time                 Consulting   \n",
              "\n",
              "                                            Industry  \n",
              "0  Information Technology and ServicesManagement ...  \n",
              "1  Information Technology and ServicesComputer So...  \n",
              "2                                    Capital Markets  \n",
              "3               Food & BeveragesConsumer GoodsRetail  \n",
              "4                Information Technology and Services  "
            ]
          },
          "metadata": {
            "tags": []
          },
          "execution_count": 143
        }
      ]
    },
    {
      "cell_type": "code",
      "metadata": {
        "id": "R2xh9PKRWV3K"
      },
      "source": [
        "job_data.to_csv('LinkedIn Job Data.csv', index=0)"
      ],
      "execution_count": null,
      "outputs": []
    }
  ]
}